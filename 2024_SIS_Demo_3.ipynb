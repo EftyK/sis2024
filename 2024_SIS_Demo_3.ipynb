{
  "nbformat": 4,
  "nbformat_minor": 0,
  "metadata": {
    "colab": {
      "provenance": [],
      "authorship_tag": "ABX9TyOz6gCxGrUsIc113hA5zLP2",
      "include_colab_link": true
    },
    "kernelspec": {
      "name": "python3",
      "display_name": "Python 3"
    },
    "language_info": {
      "name": "python"
    }
  },
  "cells": [
    {
      "cell_type": "markdown",
      "metadata": {
        "id": "view-in-github",
        "colab_type": "text"
      },
      "source": [
        "<a href=\"https://colab.research.google.com/github/aurioldegbelo/sis2024/blob/main/2024_SIS_Demo_3.ipynb\" target=\"_parent\"><img src=\"https://colab.research.google.com/assets/colab-badge.svg\" alt=\"Open In Colab\"/></a>"
      ]
    },
    {
      "cell_type": "markdown",
      "source": [
        "Similarity Computation"
      ],
      "metadata": {
        "id": "o2AL7tGGzo6M"
      }
    },
    {
      "cell_type": "code",
      "execution_count": 1,
      "metadata": {
        "id": "7w51cvrVyma0"
      },
      "outputs": [],
      "source": [
        "def sum (a, b):\n",
        "  return a+b\n"
      ]
    },
    {
      "cell_type": "code",
      "source": [
        "sum(1,3)"
      ],
      "metadata": {
        "colab": {
          "base_uri": "https://localhost:8080/"
        },
        "id": "lhBMnlKS0fbW",
        "outputId": "c4870e1c-707c-4f8e-9239-0963c1c98cba"
      },
      "execution_count": 2,
      "outputs": [
        {
          "output_type": "execute_result",
          "data": {
            "text/plain": [
              "4"
            ]
          },
          "metadata": {},
          "execution_count": 2
        }
      ]
    }
  ]
}